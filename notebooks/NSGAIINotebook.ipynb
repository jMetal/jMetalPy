{
 "cells": [
  {
   "cell_type": "markdown",
   "metadata": {},
   "source": [
    "# Examples of configuring and running NSGA-II\n",
    "\n",
    "This notebook includes two examples where NSGA-II is used to solve a continuous and a binary multi-objective problems."
   ]
  },
  {
   "cell_type": "code",
   "execution_count": 3,
   "metadata": {},
   "outputs": [],
   "source": [
    "from jmetal.algorithm.multiobjective.nsgaii import NSGAII\n",
    "from jmetal.operator.mutation import PolynomialMutation, BitFlipMutation\n",
    "from jmetal.operator.crossover import SBXCrossover, SPXCrossover\n",
    "from jmetal.util.solution import get_non_dominated_solutions\n",
    "from jmetal.util.termination_criterion import StoppingByEvaluations"
   ]
  },
  {
   "cell_type": "markdown",
   "metadata": {},
   "source": [
    "## Configure NSGA-II to solve a continuous problem (ZDT1)\n",
    "### Indicate the problem to solve"
   ]
  },
  {
   "cell_type": "code",
   "execution_count": 4,
   "metadata": {
    "ExecuteTime": {
     "end_time": "2024-06-21T10:22:36.351862Z",
     "start_time": "2024-06-21T10:22:36.348342Z"
    }
   },
   "outputs": [],
   "source": [
    "from jmetal.problem import ZDT1\n",
    "\n",
    "problem = ZDT1()"
   ]
  },
  {
   "cell_type": "markdown",
   "metadata": {},
   "source": [
    "### Create an instance of NSGA-II"
   ]
  },
  {
   "cell_type": "code",
   "execution_count": 6,
   "metadata": {
    "ExecuteTime": {
     "end_time": "2024-06-21T10:22:39.183018Z",
     "start_time": "2024-06-21T10:22:39.177335Z"
    }
   },
   "outputs": [],
   "source": [
    "max_evaluations = 25000\n",
    "algorithm = NSGAII(\n",
    "        problem=problem,\n",
    "        population_size=100,\n",
    "        offspring_population_size=100,\n",
    "        mutation=PolynomialMutation(probability=1.0 / problem.number_of_variables(), distribution_index=20),\n",
    "        crossover=SBXCrossover(probability=1.0, distribution_index=20),\n",
    "        termination_criterion=StoppingByEvaluations(max_evaluations=max_evaluations),\n",
    ")"
   ]
  },
  {
   "cell_type": "markdown",
   "metadata": {},
   "source": [
    "### Run the algorithm and get the front found"
   ]
  },
  {
   "cell_type": "code",
   "execution_count": 8,
   "metadata": {
    "ExecuteTime": {
     "end_time": "2024-06-21T10:22:49.745973Z",
     "start_time": "2024-06-21T10:22:42.260470Z"
    }
   },
   "outputs": [
    {
     "name": "stderr",
     "output_type": "stream",
     "text": [
      "[2024-06-22 10:23:06,510] [jmetal.core.algorithm] [DEBUG] Creating initial set of solutions...\n",
      "[2024-06-22 10:23:06,516] [jmetal.core.algorithm] [DEBUG] Evaluating solutions...\n",
      "[2024-06-22 10:23:06,518] [jmetal.core.algorithm] [DEBUG] Initializing progress...\n",
      "[2024-06-22 10:23:06,519] [jmetal.core.algorithm] [DEBUG] Running main loop until termination criteria is met\n",
      "[2024-06-22 10:23:09,500] [jmetal.core.algorithm] [DEBUG] Finished!\n"
     ]
    }
   ],
   "source": [
    "algorithm.run()\n",
    "front = get_non_dominated_solutions(algorithm.result())"
   ]
  },
  {
   "cell_type": "markdown",
   "metadata": {},
   "source": [
    "### Display the front"
   ]
  },
  {
   "cell_type": "code",
   "execution_count": 9,
   "metadata": {
    "ExecuteTime": {
     "end_time": "2024-06-21T10:22:49.756076Z",
     "start_time": "2024-06-21T10:22:49.755388Z"
    }
   },
   "outputs": [],
   "source": [
    "import matplotlib.pyplot as plt\n",
    "import numpy as np"
   ]
  },
  {
   "cell_type": "code",
   "execution_count": 10,
   "metadata": {
    "ExecuteTime": {
     "end_time": "2024-06-21T10:22:49.762278Z",
     "start_time": "2024-06-21T10:22:49.762108Z"
    }
   },
   "outputs": [],
   "source": [
    "objectives = [solution.objectives for solution in front]\n",
    "\n",
    "x = [_[0] for _ in objectives]\n",
    "y = [_[1] for _ in objectives]"
   ]
  },
  {
   "cell_type": "code",
   "execution_count": 11,
   "metadata": {
    "ExecuteTime": {
     "end_time": "2024-06-21T10:22:49.765093Z",
     "start_time": "2024-06-21T10:22:49.765015Z"
    }
   },
   "outputs": [],
   "source": [
    "referenceFront = np.loadtxt(\"../resources/reference_fronts/ZDT1.pf\", delimiter=' ')\n",
    "referenceFront = referenceFront[referenceFront[:, 0].argsort()]"
   ]
  },
  {
   "cell_type": "code",
   "execution_count": 12,
   "metadata": {
    "ExecuteTime": {
     "end_time": "2024-06-21T10:22:49.767425Z",
     "start_time": "2024-06-21T10:22:49.767339Z"
    }
   },
   "outputs": [
    {
     "data": {
      "text/plain": [
       "<matplotlib.legend.Legend at 0x14a046e10>"
      ]
     },
     "execution_count": 12,
     "metadata": {},
     "output_type": "execute_result"
    },
    {
     "data": {
      "image/png": "[encoded data removed]",
      "text/plain": [
       "<Figure size 640x480 with 1 Axes>"
      ]
     },
     "metadata": {},
     "output_type": "display_data"
    }
   ],
   "source": [
    "plt.plot(referenceFront[:,0], referenceFront[:,1], color=\"black\")\n",
    "plt.scatter(x, y, color=\"black\", marker = '.')\n",
    "\n",
    "plt.xlabel(\"f1\")\n",
    "plt.ylabel(\"f2\")\n",
    "plt.title(problem.name())\n",
    "plt.legend([\"Reference front\" , \"NSGAII\"])"
   ]
  },
  {
   "cell_type": "markdown",
   "metadata": {},
   "source": [
    "## Configure NSGA-II to solve a binary problem (OneZeroMax)"
   ]
  },
  {
   "cell_type": "code",
   "execution_count": 13,
   "metadata": {
    "ExecuteTime": {
     "start_time": "2024-06-21T10:22:29.043412Z"
    }
   },
   "outputs": [],
   "source": [
    "# The OneZeroMax problem consists of maximizing the number of zeros and the number of ones in a binary string\n",
    "from jmetal.problem.multiobjective.unconstrained import OneZeroMax\n",
    "\n",
    "bit_string_length = 512\n",
    "problem = OneZeroMax(bit_string_length)"
   ]
  },
  {
   "cell_type": "markdown",
   "metadata": {},
   "source": [
    "### Create an instance of NSGAII for binary problems¡"
   ]
  },
  {
   "cell_type": "code",
   "execution_count": 14,
   "metadata": {
    "ExecuteTime": {
     "start_time": "2024-06-21T10:22:29.045286Z"
    }
   },
   "outputs": [],
   "source": [
    "max_evaluations = 25000\n",
    "algorithm = NSGAII(\n",
    "        problem=problem,\n",
    "        population_size=100,\n",
    "        offspring_population_size=100,\n",
    "        mutation=BitFlipMutation(probability=1.0 / bit_string_length),\n",
    "        crossover=SPXCrossover(probability=1.0),\n",
    "        termination_criterion=StoppingByEvaluations(max_evaluations=max_evaluations),\n",
    ")"
   ]
  },
  {
   "cell_type": "markdown",
   "metadata": {},
   "source": [
    "### Run the algorithm and get the front found"
   ]
  },
  {
   "cell_type": "code",
   "execution_count": 16,
   "metadata": {
    "ExecuteTime": {
     "start_time": "2024-06-21T10:22:29.046837Z"
    }
   },
   "outputs": [
    {
     "name": "stderr",
     "output_type": "stream",
     "text": [
      "[2024-06-22 10:23:28,265] [jmetal.core.algorithm] [DEBUG] Creating initial set of solutions...\n",
      "[2024-06-22 10:23:28,300] [jmetal.core.algorithm] [DEBUG] Evaluating solutions...\n",
      "[2024-06-22 10:23:28,301] [jmetal.core.algorithm] [DEBUG] Initializing progress...\n",
      "[2024-06-22 10:23:28,302] [jmetal.core.algorithm] [DEBUG] Running main loop until termination criteria is met\n",
      "[2024-06-22 10:23:34,189] [jmetal.core.algorithm] [DEBUG] Finished!\n"
     ]
    }
   ],
   "source": [
    "algorithm.run()\n",
    "front = get_non_dominated_solutions(algorithm.result())"
   ]
  },
  {
   "cell_type": "markdown",
   "metadata": {},
   "source": [
    "### Display the front"
   ]
  },
  {
   "cell_type": "code",
   "execution_count": 17,
   "metadata": {
    "ExecuteTime": {
     "start_time": "2024-06-21T10:22:29.048263Z"
    }
   },
   "outputs": [],
   "source": [
    "objectives = [solution.objectives for solution in front]\n",
    "\n",
    "x = [_[0] for _ in objectives]\n",
    "y = [_[1] for _ in objectives]"
   ]
  },
  {
   "cell_type": "code",
   "execution_count": 18,
   "metadata": {
    "ExecuteTime": {
     "end_time": "2024-06-21T10:22:29.094980Z",
     "start_time": "2024-06-21T10:22:29.051241Z"
    }
   },
   "outputs": [
    {
     "data": {
      "text/plain": [
       "<matplotlib.legend.Legend at 0x14a0e1100>"
      ]
     },
     "execution_count": 18,
     "metadata": {},
     "output_type": "execute_result"
    },
    {
     "data": {
      "image/png": "[encoded data removed]",
      "text/plain": [
       "<Figure size 640x480 with 1 Axes>"
      ]
     },
     "metadata": {},
     "output_type": "display_data"
    }
   ],
   "source": [
    "plt.scatter(x, y, color=\"black\")\n",
    "\n",
    "plt.xlabel(\"f1\")\n",
    "plt.ylabel(\"f2\")\n",
    "plt.title(problem.name())\n",
    "plt.legend([\"NSGAII\"])"
   ]
  },
  {
   "cell_type": "code",
   "execution_count": null,
   "metadata": {
    "ExecuteTime": {
     "start_time": "2024-06-21T10:22:29.053211Z"
    }
   },
   "outputs": [],
   "source": []
  },
  {
   "cell_type": "code",
   "execution_count": null,
   "metadata": {
    "ExecuteTime": {
     "start_time": "2024-06-21T10:22:29.054167Z"
    }
   },
   "outputs": [],
   "source": []
  },
  {
   "cell_type": "code",
   "execution_count": null,
   "metadata": {
    "ExecuteTime": {
     "start_time": "2024-06-21T10:22:29.055103Z"
    }
   },
   "outputs": [],
   "source": []
  }
 ],
 "metadata": {
  "kernelspec": {
   "display_name": "Python 3 (ipykernel)",
   "language": "python",
   "name": "python3"
  },
  "language_info": {
   "codemirror_mode": {
    "name": "ipython",
    "version": 3
   },
   "file_extension": ".py",
   "mimetype": "text/x-python",
   "name": "python",
   "nbconvert_exporter": "python",
   "pygments_lexer": "ipython3",
   "version": "3.12.4"
  }
 },
 "nbformat": 4,
 "nbformat_minor": 4
}
