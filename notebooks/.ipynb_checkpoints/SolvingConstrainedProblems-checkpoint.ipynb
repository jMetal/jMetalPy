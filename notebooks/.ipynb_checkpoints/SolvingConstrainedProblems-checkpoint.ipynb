{
 "cells": [
  {
   "cell_type": "markdown",
   "id": "6c141867",
   "metadata": {},
   "source": [
    "# Solving single- and multi-objective constrained problems"
   ]
  },
  {
   "cell_type": "markdown",
   "id": "8d31fe06",
   "metadata": {},
   "source": [
    "In this notebook, we show two examples of how constrained problems can be solved in jMetalPy using single- and multi-objective genetic algorithms."
   ]
  },
  {
   "cell_type": "markdown",
   "id": "2fbfb5e0",
   "metadata": {},
   "source": [
    "## Defining a constrained problem\n",
    "Let start by considering the bi-objective problem known as Srinivas, which has the following formulation (see [DPA02](https://doi.org/10.1109/4235.996017)):\n",
    "):\n",
    "\n",
    "$$\n",
    "f_1(\\vec{x}) = (x_1 - 2)^2 + (x_2 - 1)^2 + 2 \n",
    "$$\n",
    "$$\n",
    "f_2(\\vec{x}) = 9x_1 - (x_2 - 1)^2\n",
    "$$\n",
    "$$\n",
    "g_1(\\vec{x}) = x^2_1 + x^2_2 \\le 225\n",
    "$$\n",
    "$$\n",
    "g_2(\\vec{x}) = x_1 - 3x_2 \\le -10\n",
    "$$\n",
    "$$x \\in [-20, 20]\n",
    "$$\n"
   ]
  },
  {
   "cell_type": "markdown",
   "id": "adef8444",
   "metadata": {},
   "source": [
    "The constraint hanlding mechanism included in jMetalPy is the one used by NSGA-II (see again [DPA02](https://doi.org/10.1109/4235.996017)), which is based on computing the overall constraint violation degree of a given solution. This degree is calculated by summing the degrees of violation of all constraints when their value is less than zero, so we have to re-formulate the constraints:\n",
    "\n",
    "$$\n",
    "g_1(\\vec{x}) = 1.0 - (x_1 * x_1 + x_2 * x_2) / 225.0\n",
    "$$\n",
    "$$\n",
    "g_2(\\vec{x}) = (3.0 * x_2 - x_1) / 10.0 - 1.0\n",
    "$$"
   ]
  },
  {
   "cell_type": "markdown",
   "id": "6b331892",
   "metadata": {},
   "source": [
    "We can implement problem Srinivas in two ways. The first one is by extending the ``FloatProblem`` abstract class (see [Srinivas](https://github.com/jMetal/jMetalPy/blob/main/jmetal/problem/multiobjective/constrained.py)) and the second one is by using the ``OnTheFlyFloatProblem()``class. We use the second approach:"
   ]
  },
  {
   "cell_type": "code",
   "execution_count": 1,
   "id": "2fb8a05d",
   "metadata": {},
   "outputs": [],
   "source": [
    "from jmetal.core.problem import OnTheFlyFloatProblem\n",
    "\n",
    "def f1(x: [float]):\n",
    "        return 2.0 + (x[0] - 2.0) * (x[0] - 2.0) + (x[1] - 1.0) * (x[1] - 1.0)\n",
    "\n",
    "def f2(x: [float]):\n",
    "        return 9.0 * x[0] - (x[1] - 1.0) * (x[1] - 1.0)\n",
    "\n",
    "def g1(x: [float]):\n",
    "        return 1.0 - (x[0] * x[0] + x[1] * x[1]) / 225.0\n",
    "\n",
    "def g2(x: [float]):\n",
    "        return (3.0 * x[1] - x[0]) / 10.0 - 1.0\n",
    "\n",
    "problem = (\n",
    "        OnTheFlyFloatProblem()\n",
    "        .set_name(\"Srinivas\")\n",
    "        .add_variable(-20.0, 20.0)\n",
    "        .add_variable(-20.0, 20.0)\n",
    "        .add_function(f1)\n",
    "        .add_function(f2)\n",
    "        .add_constraint(g1)\n",
    "        .add_constraint(g2)\n",
    "    )"
   ]
  },
  {
   "cell_type": "code",
   "execution_count": 2,
   "id": "14820ce9",
   "metadata": {},
   "outputs": [
    {
     "data": {
      "text/plain": [
       "<jmetal.core.problem.OnTheFlyFloatProblem at 0x110e14bf0>"
      ]
     },
     "execution_count": 2,
     "metadata": {},
     "output_type": "execute_result"
    }
   ],
   "source": [
    "problem"
   ]
  },
  {
   "cell_type": "markdown",
   "id": "38a1ff0a",
   "metadata": {},
   "source": [
    "## Configuring NSGA-II \n",
    "The constraing handling mechanism of NSGA-II consists of first checking the overall constraint violation degree of the solutions to be compared; if both are feasible or have the same degree of violation, a dominance test is applied. These steps are carried out by the ``DominanceWithConstraintsComparator`` class. \n",
    "\n",
    "An example of NSGA-II configuration to solve the Srinivas problem is the following:"
   ]
  },
  {
   "cell_type": "code",
   "execution_count": 4,
   "id": "1398092f",
   "metadata": {},
   "outputs": [],
   "source": [
    "from jmetal.algorithm.multiobjective import NSGAII\n",
    "from jmetal.operator.mutation import PolynomialMutation\n",
    "from jmetal.operator.crossover import SBXCrossover\n",
    "from jmetal.util.comparator import DominanceWithConstraintsComparator\n",
    "from jmetal.util.termination_criterion import StoppingByEvaluations\n",
    "from jmetal.util.solution import get_non_dominated_solutions\n",
    "\n",
    "algorithm = NSGAII(\n",
    "        problem=problem,\n",
    "        population_size=100,\n",
    "        offspring_population_size=100,\n",
    "        mutation=PolynomialMutation(probability=1.0 / problem.number_of_variables(), distribution_index=20),\n",
    "        crossover=SBXCrossover(probability=1.0, distribution_index=20),\n",
    "        termination_criterion=StoppingByEvaluations(max_evaluations=25000),\n",
    "        dominance_comparator=DominanceWithConstraintsComparator())"
   ]
  },
  {
   "cell_type": "code",
   "execution_count": 5,
   "id": "9536cae3",
   "metadata": {},
   "outputs": [
    {
     "name": "stderr",
     "output_type": "stream",
     "text": [
      "[2024-06-22 10:24:21,788] [jmetal.core.algorithm] [DEBUG] Creating initial set of solutions...\n",
      "[2024-06-22 10:24:21,795] [jmetal.core.algorithm] [DEBUG] Evaluating solutions...\n",
      "[2024-06-22 10:24:21,797] [jmetal.core.algorithm] [DEBUG] Initializing progress...\n",
      "[2024-06-22 10:24:21,797] [jmetal.core.algorithm] [DEBUG] Running main loop until termination criteria is met\n",
      "[2024-06-22 10:24:26,498] [jmetal.core.algorithm] [DEBUG] Finished!\n"
     ]
    }
   ],
   "source": [
    "algorithm.run()"
   ]
  },
  {
   "cell_type": "code",
   "execution_count": 6,
   "id": "78bb9892",
   "metadata": {},
   "outputs": [],
   "source": [
    "front = get_non_dominated_solutions(algorithm.result())"
   ]
  },
  {
   "cell_type": "code",
   "execution_count": 7,
   "id": "ed4066c2-8f24-41e0-95d8-7ca534b2be67",
   "metadata": {},
   "outputs": [],
   "source": [
    "import matplotlib.pyplot as plt"
   ]
  },
  {
   "cell_type": "code",
   "execution_count": 8,
   "id": "92332a74-a845-4448-a8ea-79743ef7787b",
   "metadata": {},
   "outputs": [],
   "source": [
    "objectives = [solution.objectives for solution in front]\n",
    "\n",
    "x = [_[0] for _ in objectives]\n",
    "y = [_[1] for _ in objectives]"
   ]
  },
  {
   "cell_type": "code",
   "execution_count": 9,
   "id": "0e7af84a-5604-4d17-82b7-ddc0e8862bb9",
   "metadata": {},
   "outputs": [
    {
     "data": {
      "text/plain": [
       "<matplotlib.legend.Legend at 0x1257a4cb0>"
      ]
     },
     "execution_count": 9,
     "metadata": {},
     "output_type": "execute_result"
    },
    {
     "data": {
      "image/png": "[encoded data removed]",
      "text/plain": [
       "<Figure size 640x480 with 1 Axes>"
      ]
     },
     "metadata": {},
     "output_type": "display_data"
    }
   ],
   "source": [
    "plt.scatter(x, y, color=\"black\")\n",
    "\n",
    "plt.xlabel(\"f1\")\n",
    "plt.ylabel(\"f2\")\n",
    "plt.title(problem.name())\n",
    "plt.legend([\"NSGAII\"])"
   ]
  },
  {
   "cell_type": "code",
   "execution_count": null,
   "id": "e7b871f7-170c-4ab9-8223-a018f02929c2",
   "metadata": {},
   "outputs": [],
   "source": []
  },
  {
   "cell_type": "code",
   "execution_count": null,
   "id": "d3eb1e3b-bb1f-42bf-b216-e9693099861d",
   "metadata": {},
   "outputs": [],
   "source": []
  },
  {
   "cell_type": "code",
   "execution_count": null,
   "id": "fdca13ae-d8ca-47a0-9dd4-7a4e8c271046",
   "metadata": {},
   "outputs": [],
   "source": []
  }
 ],
 "metadata": {
  "kernelspec": {
   "display_name": "Python 3 (ipykernel)",
   "language": "python",
   "name": "python3"
  },
  "language_info": {
   "codemirror_mode": {
    "name": "ipython",
    "version": 3
   },
   "file_extension": ".py",
   "mimetype": "text/x-python",
   "name": "python",
   "nbconvert_exporter": "python",
   "pygments_lexer": "ipython3",
   "version": "3.12.4"
  }
 },
 "nbformat": 4,
 "nbformat_minor": 5
}
