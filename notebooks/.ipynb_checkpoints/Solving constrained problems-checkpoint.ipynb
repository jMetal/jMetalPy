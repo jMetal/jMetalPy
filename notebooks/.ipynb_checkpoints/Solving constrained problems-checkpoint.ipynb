{
 "cells": [
  {
   "cell_type": "markdown",
   "id": "6c141867",
   "metadata": {},
   "source": [
    "# Solving single- and multi-objective constrained problems"
   ]
  },
  {
   "cell_type": "markdown",
   "id": "8d31fe06",
   "metadata": {},
   "source": [
    "In this notebook, we show two examples of how constrained problems can be solved in jMetalPy using single- and multi-objective genetic algorithms."
   ]
  },
  {
   "cell_type": "markdown",
   "id": "2fbfb5e0",
   "metadata": {},
   "source": [
    "## Defining a constrained problem\n",
    "Let start by considering the bi-objective problem known as Srinivas, which has the following formulation (see [DPA02](https://doi.org/10.1109/4235.996017)):\n",
    "):\n",
    "\n",
    "$$\n",
    "f_1(\\vec{x}) = (x_1 - 2)^2 + (x_2 - 1)^2 + 2 \n",
    "$$\n",
    "$$\n",
    "f_2(\\vec{x}) = 9x_1 - (x_2 - 1)^2\n",
    "$$\n",
    "$$\n",
    "g_1(\\vec{x}) = x^2_1 + x^2_2 \\le 225\n",
    "$$\n",
    "$$\n",
    "g_2(\\vec{x}) = x_1 - 3x_2 \\le -10\n",
    "$$\n",
    "$$x \\in [-20, 20]\n",
    "$$\n"
   ]
  },
  {
   "cell_type": "markdown",
   "id": "adef8444",
   "metadata": {},
   "source": [
    "The constraint hanlding mechanism included in jMetalPy is the one used by NSGA-II (see again [DPA02](https://doi.org/10.1109/4235.996017)), which is based on computing the overall constraint violation degree of a given solution. This degree is calculated by summing the degrees of violation of all constraints when their value is less than zero, so we have to re-formulate the constraints:\n",
    "\n",
    "$$\n",
    "g_1(\\vec{x}) = 1.0 - (x_1 * x_1 + x_2 * x_2) / 225.0\n",
    "$$\n",
    "$$\n",
    "g_2(\\vec{x}) = (3.0 * x_2 - x_1) / 10.0 - 1.0\n",
    "$$"
   ]
  },
  {
   "cell_type": "markdown",
   "id": "6b331892",
   "metadata": {},
   "source": [
    "We can implement problem Srinivas in two ways. The first one is by extending the ``FloatProblem`` abstract class (see [Srinivas](https://github.com/jMetal/jMetalPy/blob/main/jmetal/problem/multiobjective/constrained.py)) and the second one is by using the ``OnTheFlyFloatProblem()``class. We use the second approach:"
   ]
  },
  {
   "cell_type": "code",
   "execution_count": 11,
   "id": "2fb8a05d",
   "metadata": {},
   "outputs": [],
   "source": [
    "from jmetal.core.problem import OnTheFlyFloatProblem\n",
    "\n",
    "def f1(x: [float]):\n",
    "        return 2.0 + (x[0] - 2.0) * (x[0] - 2.0) + (x[1] - 1.0) * (x[1] - 1.0)\n",
    "\n",
    "def f2(x: [float]):\n",
    "        return 9.0 * x[0] - (x[1] - 1.0) * (x[1] - 1.0)\n",
    "\n",
    "def g1(x: [float]):\n",
    "        return 1.0 - (x[0] * x[0] + x[1] * x[1]) / 225.0\n",
    "\n",
    "def g2(x: [float]):\n",
    "        return (3.0 * x[1] - x[0]) / 10.0 - 1.0\n",
    "\n",
    "problem = (\n",
    "        OnTheFlyFloatProblem()\n",
    "        .set_name(\"Srinivas\")\n",
    "        .add_variable(-20.0, 20.0)\n",
    "        .add_variable(-20.0, 20.0)\n",
    "        .add_function(f1)\n",
    "        .add_function(f2)\n",
    "        .add_constraint(g1)\n",
    "        .add_constraint(g2)\n",
    "    )"
   ]
  },
  {
   "cell_type": "code",
   "execution_count": 12,
   "id": "14820ce9",
   "metadata": {},
   "outputs": [
    {
     "data": {
      "text/plain": [
       "<jmetal.core.problem.OnTheFlyFloatProblem at 0x7fde72368490>"
      ]
     },
     "execution_count": 12,
     "metadata": {},
     "output_type": "execute_result"
    }
   ],
   "source": [
    "problem"
   ]
  },
  {
   "cell_type": "markdown",
   "id": "38a1ff0a",
   "metadata": {},
   "source": [
    "## Configuring NSGA-II \n",
    "The constraing handling mechanism of NSGA-II consists of first checking the overall constraint violation degree of the solutions to be compared; if both are feasible or have the same degree of violation, a dominance test is applied. These steps are carried out by the ``DominanceWithConstraintsComparator`` class. \n",
    "\n",
    "An example of NSGA-II configuration to solve the Srinivas problem is the following:"
   ]
  },
  {
   "cell_type": "code",
   "execution_count": 13,
   "id": "1398092f",
   "metadata": {},
   "outputs": [
    {
     "ename": "ImportError",
     "evalue": "cannot import name 'DominanceWithConstraintsComparator' from 'jmetal.util.comparator' (/Users/ajnebro/opt/anaconda3/envs/jmetalpy/lib/python3.9/site-packages/jmetal/util/comparator.py)",
     "output_type": "error",
     "traceback": [
      "\u001B[0;31m---------------------------------------------------------------------------\u001B[0m",
      "\u001B[0;31mImportError\u001B[0m                               Traceback (most recent call last)",
      "Cell \u001B[0;32mIn[13], line 3\u001B[0m\n\u001B[1;32m      1\u001B[0m \u001B[38;5;28;01mfrom\u001B[39;00m \u001B[38;5;21;01mjmetal\u001B[39;00m\u001B[38;5;21;01m.\u001B[39;00m\u001B[38;5;21;01malgorithm\u001B[39;00m\u001B[38;5;21;01m.\u001B[39;00m\u001B[38;5;21;01mmultiobjective\u001B[39;00m \u001B[38;5;28;01mimport\u001B[39;00m NSGAII\n\u001B[1;32m      2\u001B[0m \u001B[38;5;28;01mfrom\u001B[39;00m \u001B[38;5;21;01mjmetal\u001B[39;00m\u001B[38;5;21;01m.\u001B[39;00m\u001B[38;5;21;01moperator\u001B[39;00m \u001B[38;5;28;01mimport\u001B[39;00m PolynomialMutation, SBXCrossover\n\u001B[0;32m----> 3\u001B[0m \u001B[38;5;28;01mfrom\u001B[39;00m \u001B[38;5;21;01mjmetal\u001B[39;00m\u001B[38;5;21;01m.\u001B[39;00m\u001B[38;5;21;01mutil\u001B[39;00m\u001B[38;5;21;01m.\u001B[39;00m\u001B[38;5;21;01mcomparator\u001B[39;00m \u001B[38;5;28;01mimport\u001B[39;00m DominanceWithConstraintsComparator\n\u001B[1;32m      5\u001B[0m algorithm \u001B[38;5;241m=\u001B[39m NSGAII(\n\u001B[1;32m      6\u001B[0m         problem\u001B[38;5;241m=\u001B[39mproblem,\n\u001B[1;32m      7\u001B[0m         population_size\u001B[38;5;241m=\u001B[39m\u001B[38;5;241m100\u001B[39m,\n\u001B[0;32m   (...)\u001B[0m\n\u001B[1;32m     11\u001B[0m         termination_criterion\u001B[38;5;241m=\u001B[39mStoppingByEvaluations(max_evaluations\u001B[38;5;241m=\u001B[39m\u001B[38;5;241m25000\u001B[39m),\n\u001B[1;32m     12\u001B[0m         dominance_comparator\u001B[38;5;241m=\u001B[39mDominanceWithConstraintsComparator())\n",
      "\u001B[0;31mImportError\u001B[0m: cannot import name 'DominanceWithConstraintsComparator' from 'jmetal.util.comparator' (/Users/ajnebro/opt/anaconda3/envs/jmetalpy/lib/python3.9/site-packages/jmetal/util/comparator.py)"
     ]
    }
   ],
   "source": [
    "from jmetal.algorithm.multiobjective import NSGAII\n",
    "from jmetal.operator import PolynomialMutation, SBXCrossover\n",
    "from jmetal.util.comparator import DominanceWithConstraintsComparator\n",
    "\n",
    "algorithm = NSGAII(\n",
    "        problem=problem,\n",
    "        population_size=100,\n",
    "        offspring_population_size=100,\n",
    "        mutation=PolynomialMutation(probability=1.0 / problem.number_of_variables(), distribution_index=20),\n",
    "        crossover=SBXCrossover(probability=1.0, distribution_index=20),\n",
    "        termination_criterion=StoppingByEvaluations(max_evaluations=25000),\n",
    "        dominance_comparator=DominanceWithConstraintsComparator())"
   ]
  },
  {
   "cell_type": "code",
   "execution_count": null,
   "id": "9536cae3",
   "metadata": {},
   "outputs": [],
   "source": []
  },
  {
   "cell_type": "code",
   "execution_count": null,
   "id": "78bb9892",
   "metadata": {},
   "outputs": [],
   "source": []
  }
 ],
 "metadata": {
  "kernelspec": {
   "display_name": "Python 3 (ipykernel)",
   "language": "python",
   "name": "python3"
  },
  "language_info": {
   "codemirror_mode": {
    "name": "ipython",
    "version": 3
   },
   "file_extension": ".py",
   "mimetype": "text/x-python",
   "name": "python",
   "nbconvert_exporter": "python",
   "pygments_lexer": "ipython3",
   "version": "3.9.7"
  }
 },
 "nbformat": 4,
 "nbformat_minor": 5
}
